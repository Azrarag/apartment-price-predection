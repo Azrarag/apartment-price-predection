{
  "nbformat": 4,
  "nbformat_minor": 0,
  "metadata": {
    "colab": {
      "name": "Untitled2.ipynb",
      "provenance": [],
      "authorship_tag": "ABX9TyPL4eo4k39X7dhgTP16PLYp",
      "include_colab_link": true
    },
    "kernelspec": {
      "name": "python3",
      "display_name": "Python 3"
    },
    "language_info": {
      "name": "python"
    }
  },
  "cells": [
    {
      "cell_type": "markdown",
      "metadata": {
        "id": "view-in-github",
        "colab_type": "text"
      },
      "source": [
        "<a href=\"https://colab.research.google.com/github/Azrarag/apartment-price-predection/blob/main/Untitled2.ipynb\" target=\"_parent\"><img src=\"https://colab.research.google.com/assets/colab-badge.svg\" alt=\"Open In Colab\"/></a>"
      ]
    },
    {
      "cell_type": "code",
      "metadata": {
        "id": "HqTREenkVh_H"
      },
      "source": [
        "import random\n",
        "from math import *\n",
        "import numpy as np"
      ],
      "execution_count": 1,
      "outputs": []
    },
    {
      "cell_type": "code",
      "metadata": {
        "id": "fPT0HuunV3Qc"
      },
      "source": [
        "def MatrixA(xi,m):\n",
        "    n=len(xi)-1\n",
        "    A=np.zeros((n+1,m+1))\n",
        "    for i in range(n+1):\n",
        "        for j in range(m+1):\n",
        "            A[i,j]=xi[i]**j\n",
        "    return A"
      ],
      "execution_count": 2,
      "outputs": []
    },
    {
      "cell_type": "code",
      "metadata": {
        "id": "bsZG0QrEV49_"
      },
      "source": [
        "def horner(p,x):\n",
        "    n=len(p)-1\n",
        "    b=p[n]\n",
        "    \n",
        "    for k in range(n-1,-1,-1):\n",
        "        b=p[k]+b*x\n",
        "    return b"
      ],
      "execution_count": 3,
      "outputs": []
    },
    {
      "cell_type": "code",
      "metadata": {
        "id": "ejfxlRxXWB9A"
      },
      "source": [
        "def coeffRegression(xi,yi,m):\n",
        "    #remplissage de la matrice A\n",
        "    A=MatrixA(xi,m)\n",
        "    b=yi\n",
        "   # At=np.transpose(A)\n",
        "    At=A.T\n",
        "    B=At@A\n",
        "    #B=np.matmul(At,b)\n",
        "    C=At@b\n",
        "    w=np.linalg.solve(B,C)\n",
        "    #a=la.solve(B,C)\n",
        "    #y=horner(a,x)\n",
        "    return w"
      ],
      "execution_count": 4,
      "outputs": []
    },
    {
      "cell_type": "code",
      "metadata": {
        "id": "pP6UTmp9WFHk"
      },
      "source": [
        "def polyRegression(w,x):\n",
        "    y=horner(w,x)\n",
        "    return y"
      ],
      "execution_count": 5,
      "outputs": []
    }
  ]
}